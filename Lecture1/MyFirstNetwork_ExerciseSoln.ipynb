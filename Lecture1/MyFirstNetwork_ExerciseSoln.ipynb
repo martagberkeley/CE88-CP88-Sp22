{
 "cells": [
  {
   "cell_type": "code",
   "execution_count": 1,
   "metadata": {},
   "outputs": [],
   "source": [
    "import networkx as nx\n",
    "import matplotlib.pyplot as plt\n",
    "import numpy as np\n",
    "#this will allow the plot to be inline in the browser\n",
    "%matplotlib inline"
   ]
  },
  {
   "cell_type": "markdown",
   "metadata": {},
   "source": [
    "### Exercise: Create the 4 node network of Lecture 1 and respond the following questions (use networkx documentation or Google the questions)"
   ]
  },
  {
   "cell_type": "code",
   "execution_count": 2,
   "metadata": {},
   "outputs": [],
   "source": [
    "g = nx.Graph()  #Graph base class for undirected graphs. See also:DiGraph for directed graphs\n",
    "g.add_edge('1','2',weight=1.0) #Nodes can be arbitrary (hashable) Python objects with optional key/value attributes.\n",
    "g.add_edge('2','3',weight=1.0) #Edges are represented as links between nodes with optional key/value attributes.                                \n",
    "g.add_edge('2','4',weight=1.0) #We create a network by adding 11 edges to the graph (g) of 4 nodes. \n",
    "g.add_edge('4','3',weight=1.0)"
   ]
  },
  {
   "cell_type": "code",
   "execution_count": 3,
   "metadata": {},
   "outputs": [
    {
     "data": {
      "image/png": "[encoded data removed]",
      "text/plain": [
       "<Figure size 432x288 with 1 Axes>"
      ]
     },
     "metadata": {},
     "output_type": "display_data"
    }
   ],
   "source": [
    "nx.draw_networkx(g) #The draw_networkx function is called (check online documentation to learn all the properties)"
   ]
  },
  {
   "cell_type": "markdown",
   "metadata": {},
   "source": [
    "#### 1) Print Nodes"
   ]
  },
  {
   "cell_type": "code",
   "execution_count": 4,
   "metadata": {},
   "outputs": [
    {
     "name": "stdout",
     "output_type": "stream",
     "text": [
      "Nodes:  ['1', '2', '3', '4']\n"
     ]
    }
   ],
   "source": [
    "print (\"Nodes: \", g.nodes())"
   ]
  },
  {
   "cell_type": "markdown",
   "metadata": {},
   "source": [
    "#### 2) Print Edges"
   ]
  },
  {
   "cell_type": "code",
   "execution_count": 5,
   "metadata": {},
   "outputs": [
    {
     "name": "stdout",
     "output_type": "stream",
     "text": [
      "Edges:  [('1', '2'), ('2', '3'), ('2', '4'), ('3', '4')]\n"
     ]
    }
   ],
   "source": [
    "print (\"Edges: \" , g.edges())"
   ]
  },
  {
   "cell_type": "markdown",
   "metadata": {},
   "source": [
    "#### 3) Print number of nodes"
   ]
  },
  {
   "cell_type": "code",
   "execution_count": 6,
   "metadata": {},
   "outputs": [
    {
     "name": "stdout",
     "output_type": "stream",
     "text": [
      "Number of nodes: 4\n"
     ]
    }
   ],
   "source": [
    "print (\"Number of nodes:\" , g.number_of_nodes())"
   ]
  },
  {
   "cell_type": "markdown",
   "metadata": {},
   "source": [
    "#### 4) Print number of Edges"
   ]
  },
  {
   "cell_type": "code",
   "execution_count": 7,
   "metadata": {},
   "outputs": [
    {
     "name": "stdout",
     "output_type": "stream",
     "text": [
      "Number of edges: 4\n"
     ]
    }
   ],
   "source": [
    "print (\"Number of edges:\" , g.number_of_edges())"
   ]
  },
  {
   "cell_type": "markdown",
   "metadata": {},
   "source": [
    "#### 5) Iterate through nodes and print neighbors"
   ]
  },
  {
   "cell_type": "code",
   "execution_count": 8,
   "metadata": {},
   "outputs": [
    {
     "name": "stdout",
     "output_type": "stream",
     "text": [
      "Neighbors of  1  are :  ['2']\n",
      "Neighbors of  2  are :  ['1', '3', '4']\n",
      "Neighbors of  3  are :  ['2', '4']\n",
      "Neighbors of  4  are :  ['2', '3']\n"
     ]
    }
   ],
   "source": [
    "for node in g.nodes():\n",
    "    print (\"Neighbors of \", node, \" are : \", list(g.neighbors(node)))"
   ]
  },
  {
   "cell_type": "markdown",
   "metadata": {},
   "source": [
    "#### 6) Iterate through nodes and print degree"
   ]
  },
  {
   "cell_type": "code",
   "execution_count": 9,
   "metadata": {
    "scrolled": true
   },
   "outputs": [
    {
     "name": "stdout",
     "output_type": "stream",
     "text": [
      "Degree of  1  is :  1 or  1\n",
      "Degree of  2  is :  3 or  3\n",
      "Degree of  3  is :  2 or  2\n",
      "Degree of  4  is :  2 or  2\n"
     ]
    }
   ],
   "source": [
    "for node in g.nodes():\n",
    "    print (\"Degree of \", node, \" is : \", len(list(g.neighbors(node))),\"or \",g.degree(node))"
   ]
  },
  {
   "cell_type": "markdown",
   "metadata": {},
   "source": [
    "#### Repeat the exercise 1)-6) using DiGraph instead of Graph"
   ]
  },
  {
   "cell_type": "code",
   "execution_count": 10,
   "metadata": {},
   "outputs": [
    {
     "name": "stdout",
     "output_type": "stream",
     "text": [
      "Degree of  1  are :  1\n",
      "Degree of  2  are :  3\n",
      "Degree of  3  are :  2\n",
      "Degree of  4  are :  2\n"
     ]
    }
   ],
   "source": [
    "for node in g.nodes():\n",
    "    print (\"Degree of \", node, \" are : \", len(list(g.neighbors(node))))"
   ]
  },
  {
   "cell_type": "code",
   "execution_count": 6,
   "metadata": {},
   "outputs": [],
   "source": [
    "gd = nx.DiGraph()  #Graph base class for undirected graphs. See also:DiGraph for directed graphs\n",
    "gd.add_edge('1','2',weight=1.0) #Nodes can be arbitrary (hashable) Python objects with optional key/value attributes.\n",
    "gd.add_edge('2','3',weight=1.0) #Edges are represented as links between nodes with optional key/value attributes.                                \n",
    "gd.add_edge('2','4',weight=1.0) #We create a network by adding 11 edges to the graph (g) of 4 nodes. \n",
    "gd.add_edge('4','3',weight=1.0)\n"
   ]
  },
  {
   "cell_type": "code",
   "execution_count": 12,
   "metadata": {},
   "outputs": [
    {
     "data": {
      "image/png": "[encoded data removed]",
      "text/plain": [
       "<Figure size 432x288 with 1 Axes>"
      ]
     },
     "metadata": {},
     "output_type": "display_data"
    }
   ],
   "source": [
    "nx.draw_networkx(gd)"
   ]
  },
  {
   "cell_type": "code",
   "execution_count": 13,
   "metadata": {},
   "outputs": [
    {
     "name": "stdout",
     "output_type": "stream",
     "text": [
      "Nodes:  ['1', '2', '3', '4']\n"
     ]
    }
   ],
   "source": [
    "print (\"Nodes: \" , gd.nodes())"
   ]
  },
  {
   "cell_type": "code",
   "execution_count": 14,
   "metadata": {},
   "outputs": [
    {
     "name": "stdout",
     "output_type": "stream",
     "text": [
      "Edges:  [('1', '2'), ('2', '3'), ('2', '4'), ('4', '3')]\n"
     ]
    }
   ],
   "source": [
    "print (\"Edges: \" , gd.edges())"
   ]
  },
  {
   "cell_type": "code",
   "execution_count": 15,
   "metadata": {},
   "outputs": [
    {
     "name": "stdout",
     "output_type": "stream",
     "text": [
      "#Nodes:  4\n"
     ]
    }
   ],
   "source": [
    "print (\"#Nodes: \" , gd.number_of_nodes())"
   ]
  },
  {
   "cell_type": "code",
   "execution_count": 16,
   "metadata": {},
   "outputs": [
    {
     "name": "stdout",
     "output_type": "stream",
     "text": [
      "#Edges:  4\n"
     ]
    }
   ],
   "source": [
    "print (\"#Edges: \" , gd.number_of_edges())"
   ]
  },
  {
   "cell_type": "code",
   "execution_count": 17,
   "metadata": {},
   "outputs": [
    {
     "name": "stdout",
     "output_type": "stream",
     "text": [
      "Neighbors of  1  are :  ['2']\n",
      "Neighbors of  2  are :  ['3', '4']\n",
      "Neighbors of  3  are :  []\n",
      "Neighbors of  4  are :  ['3']\n"
     ]
    }
   ],
   "source": [
    "for node in gd.nodes():\n",
    "    print (\"Neighbors of \", node, \" are : \", list(gd.neighbors(node)))"
   ]
  },
  {
   "cell_type": "code",
   "execution_count": 18,
   "metadata": {},
   "outputs": [
    {
     "name": "stdout",
     "output_type": "stream",
     "text": [
      "Weight of edge [ 1 ][ 2 ] is  1.0\n",
      "Weight of edge [ 2 ][ 3 ] is  1.0\n",
      "Weight of edge [ 2 ][ 4 ] is  1.0\n",
      "Weight of edge [ 4 ][ 3 ] is  1.0\n"
     ]
    }
   ],
   "source": [
    "for u,v in gd.edges():\n",
    "    print (\"Weight of edge [\", u, \"][\", v,\"] is \", g[u][v]['weight'])"
   ]
  },
  {
   "cell_type": "code",
   "execution_count": 19,
   "metadata": {},
   "outputs": [
    {
     "name": "stdout",
     "output_type": "stream",
     "text": [
      "Out-degree of  1  is :  1\n",
      "Out-degree of  2  is :  2\n",
      "Out-degree of  3  is :  0\n",
      "Out-degree of  4  is :  1\n"
     ]
    }
   ],
   "source": [
    "for node in gd.nodes():\n",
    "    print (\"Out-degree of \", node, \" is : \", gd.out_degree(node))"
   ]
  },
  {
   "cell_type": "code",
   "execution_count": 20,
   "metadata": {},
   "outputs": [
    {
     "name": "stdout",
     "output_type": "stream",
     "text": [
      "Average degree of  undirected graph =  2.0 , or:  2.0\n"
     ]
    }
   ],
   "source": [
    "print (\"Average degree of  undirected graph = \", np.mean(list(dict(g.degree()).values())), \", or: \", 2.0*g.number_of_edges()/g.number_of_nodes())"
   ]
  },
  {
   "cell_type": "code",
   "execution_count": 21,
   "metadata": {},
   "outputs": [
    {
     "data": {
      "text/plain": [
       "2.0"
      ]
     },
     "execution_count": 21,
     "metadata": {},
     "output_type": "execute_result"
    }
   ],
   "source": [
    "np.mean(list(dict(g.degree()).values()))"
   ]
  },
  {
   "cell_type": "code",
   "execution_count": 22,
   "metadata": {},
   "outputs": [
    {
     "name": "stdout",
     "output_type": "stream",
     "text": [
      "Average out-degree of  directed graph =  1.0 , or:  1.0\n"
     ]
    }
   ],
   "source": [
    "print (\"Average out-degree of  directed graph = \",np.mean(list(dict(gd.out_degree()).values())),\", or: \",gd.number_of_edges()/gd.number_of_nodes())"
   ]
  },
  {
   "cell_type": "code",
   "execution_count": 23,
   "metadata": {},
   "outputs": [
    {
     "name": "stdout",
     "output_type": "stream",
     "text": [
      "Average in-degree of  directed graph =  1.0 , or:  1.0\n"
     ]
    }
   ],
   "source": [
    "print (\"Average in-degree of  directed graph = \",np.mean(list(dict(gd.in_degree()).values())),\", or: \",gd.number_of_edges()/gd.number_of_nodes())"
   ]
  },
  {
   "cell_type": "code",
   "execution_count": 24,
   "metadata": {},
   "outputs": [
    {
     "name": "stdout",
     "output_type": "stream",
     "text": [
      "Average degree of  directed graph =  2.0 , or:  2.0\n"
     ]
    }
   ],
   "source": [
    "print (\"Average degree of  directed graph = \",np.mean(list(dict(gd.degree()).values())),\", or: \",np.mean(list(dict(gd.in_degree()).values()))+np.mean(list(dict(gd.out_degree()).values())))"
   ]
  },
  {
   "cell_type": "code",
   "execution_count": 25,
   "metadata": {},
   "outputs": [
    {
     "data": {
      "text/plain": [
       "2.0"
      ]
     },
     "execution_count": 25,
     "metadata": {},
     "output_type": "execute_result"
    }
   ],
   "source": [
    "np.mean(list(dict(gd.in_degree()).values()))+np.mean(list(dict(gd.out_degree()).values()))"
   ]
  },
  {
   "cell_type": "code",
   "execution_count": 26,
   "metadata": {},
   "outputs": [
    {
     "data": {
      "text/plain": [
       "2.0"
      ]
     },
     "execution_count": 26,
     "metadata": {},
     "output_type": "execute_result"
    }
   ],
   "source": [
    "np.mean(list(dict(gd.degree()).values()))"
   ]
  },
  {
   "cell_type": "markdown",
   "metadata": {},
   "source": [
    "#### Question 1: extract the degree of node 3 in Graph g"
   ]
  },
  {
   "cell_type": "code",
   "execution_count": 27,
   "metadata": {},
   "outputs": [
    {
     "data": {
      "text/plain": [
       "2"
      ]
     },
     "execution_count": 27,
     "metadata": {},
     "output_type": "execute_result"
    }
   ],
   "source": [
    "g.degree('3')"
   ]
  },
  {
   "cell_type": "code",
   "execution_count": 28,
   "metadata": {},
   "outputs": [
    {
     "data": {
      "text/plain": [
       "2"
      ]
     },
     "execution_count": 28,
     "metadata": {},
     "output_type": "execute_result"
    }
   ],
   "source": [
    "gd.degree('3')"
   ]
  },
  {
   "cell_type": "markdown",
   "metadata": {},
   "source": [
    "#### Question 2: extract the in-degree, out-degree and degree of node 4 in Graph dg"
   ]
  },
  {
   "cell_type": "markdown",
   "metadata": {},
   "source": [
    "Hint:Check this link for in-degree and out-degree of a directed graph\n",
    "\n",
    "https://networkx.github.io/documentation/networkx-1.10/reference/classes.digraph.html"
   ]
  },
  {
   "cell_type": "code",
   "execution_count": 29,
   "metadata": {},
   "outputs": [
    {
     "data": {
      "text/plain": [
       "2"
      ]
     },
     "execution_count": 29,
     "metadata": {},
     "output_type": "execute_result"
    }
   ],
   "source": [
    "gd.degree('4')"
   ]
  },
  {
   "cell_type": "code",
   "execution_count": 30,
   "metadata": {},
   "outputs": [
    {
     "data": {
      "text/plain": [
       "1"
      ]
     },
     "execution_count": 30,
     "metadata": {},
     "output_type": "execute_result"
    }
   ],
   "source": [
    "gd.in_degree('4')"
   ]
  },
  {
   "cell_type": "code",
   "execution_count": 31,
   "metadata": {},
   "outputs": [
    {
     "data": {
      "text/plain": [
       "1"
      ]
     },
     "execution_count": 31,
     "metadata": {},
     "output_type": "execute_result"
    }
   ],
   "source": [
    "gd.out_degree('4')"
   ]
  },
  {
   "cell_type": "markdown",
   "metadata": {},
   "source": [
    "#### Question 3: Create the plot of the degree distribution of both graphs"
   ]
  },
  {
   "cell_type": "markdown",
   "metadata": {},
   "source": [
    "Use the code of this example https://networkx.github.io/documentation/stable/auto_examples/drawing/plot_degree_histogram.html\n",
    "Note that you do not need to use their G = nx.gnp_random_graph(100, 0.02), but the g and dg defined above"
   ]
  },
  {
   "cell_type": "code",
   "execution_count": 32,
   "metadata": {},
   "outputs": [],
   "source": [
    "import collections"
   ]
  },
  {
   "cell_type": "code",
   "execution_count": 33,
   "metadata": {},
   "outputs": [],
   "source": [
    "\n",
    "degree_sequence = sorted([d for n, d in g.degree()], reverse=True)  # degree sequence\n",
    "# print \"Degree sequence\", degree_sequence\n",
    "degreeCount = collections.Counter(degree_sequence)\n",
    "deg, cnt = zip(*degreeCount.items())"
   ]
  },
  {
   "cell_type": "code",
   "execution_count": 34,
   "metadata": {},
   "outputs": [
    {
     "data": {
      "text/plain": [
       "Counter({3: 1, 2: 2, 1: 1})"
      ]
     },
     "execution_count": 34,
     "metadata": {},
     "output_type": "execute_result"
    }
   ],
   "source": [
    "degreeCount"
   ]
  },
  {
   "cell_type": "code",
   "execution_count": 35,
   "metadata": {},
   "outputs": [
    {
     "data": {
      "text/plain": [
       "(3, 2, 1)"
      ]
     },
     "execution_count": 35,
     "metadata": {},
     "output_type": "execute_result"
    }
   ],
   "source": [
    "deg"
   ]
  },
  {
   "cell_type": "code",
   "execution_count": 36,
   "metadata": {},
   "outputs": [
    {
     "data": {
      "text/plain": [
       "(1, 2, 1)"
      ]
     },
     "execution_count": 36,
     "metadata": {},
     "output_type": "execute_result"
    }
   ],
   "source": [
    "cnt"
   ]
  },
  {
   "cell_type": "code",
   "execution_count": 37,
   "metadata": {},
   "outputs": [
    {
     "data": {
      "text/plain": [
       "[Text(0, 0, '3'), Text(0, 0, '2'), Text(0, 0, '1')]"
      ]
     },
     "execution_count": 37,
     "metadata": {},
     "output_type": "execute_result"
    },
    {
     "data": {
      "image/png": "[encoded data removed]",
      "text/plain": [
       "<Figure size 432x288 with 1 Axes>"
      ]
     },
     "metadata": {
      "needs_background": "light"
     },
     "output_type": "display_data"
    }
   ],
   "source": [
    "fig, ax = plt.subplots()\n",
    "plt.bar(deg, cnt, width=0.80, color='b')\n",
    "\n",
    "plt.title(\"Degree Histogram of Undirected Graph\")\n",
    "plt.ylabel(\"Count\")\n",
    "plt.xlabel(\"Degree\")\n",
    "ax.set_xticks([d + 0.4 for d in deg])\n",
    "ax.set_xticklabels(deg)"
   ]
  },
  {
   "cell_type": "code",
   "execution_count": 38,
   "metadata": {},
   "outputs": [],
   "source": [
    "degree_sequence = sorted([d for n, d in gd.in_degree()], reverse=True)  # degree sequence\n",
    "# print \"Degree sequence\", degree_sequence\n",
    "degreeCount = collections.Counter(degree_sequence)\n",
    "deg, cnt = zip(*degreeCount.items())"
   ]
  },
  {
   "cell_type": "code",
   "execution_count": 39,
   "metadata": {},
   "outputs": [
    {
     "data": {
      "text/plain": [
       "[Text(0, 0, '2'), Text(0, 0, '1'), Text(0, 0, '0')]"
      ]
     },
     "execution_count": 39,
     "metadata": {},
     "output_type": "execute_result"
    },
    {
     "data": {
      "image/png": "[encoded data removed]",
      "text/plain": [
       "<Figure size 432x288 with 1 Axes>"
      ]
     },
     "metadata": {
      "needs_background": "light"
     },
     "output_type": "display_data"
    }
   ],
   "source": [
    "fig, ax = plt.subplots()\n",
    "plt.bar(deg, cnt, width=0.80, color='b')\n",
    "\n",
    "plt.title(\"In-Degree Histogram of Directed Graph\")\n",
    "plt.ylabel(\"Count\")\n",
    "plt.xlabel(\"In-Degree\")\n",
    "ax.set_xticks([d + 0.4 for d in deg])\n",
    "ax.set_xticklabels(deg)"
   ]
  },
  {
   "cell_type": "code",
   "execution_count": 40,
   "metadata": {},
   "outputs": [
    {
     "data": {
      "text/plain": [
       "(2, 1, 0)"
      ]
     },
     "execution_count": 40,
     "metadata": {},
     "output_type": "execute_result"
    }
   ],
   "source": [
    "deg"
   ]
  },
  {
   "cell_type": "code",
   "execution_count": null,
   "metadata": {},
   "outputs": [],
   "source": []
  },
  {
   "cell_type": "code",
   "execution_count": null,
   "metadata": {},
   "outputs": [],
   "source": []
  }
 ],
 "metadata": {
  "anaconda-cloud": {},
  "kernelspec": {
   "display_name": "Python 3",
   "language": "python",
   "name": "python3"
  },
  "language_info": {
   "codemirror_mode": {
    "name": "ipython",
    "version": 3
   },
   "file_extension": ".py",
   "mimetype": "text/x-python",
   "name": "python",
   "nbconvert_exporter": "python",
   "pygments_lexer": "ipython3",
   "version": "3.7.6"
  },
  "varInspector": {
   "cols": {
    "lenName": 16,
    "lenType": 16,
    "lenVar": 40
   },
   "kernels_config": {
    "python": {
     "delete_cmd_postfix": "",
     "delete_cmd_prefix": "del ",
     "library": "var_list.py",
     "varRefreshCmd": "print(var_dic_list())"
    },
    "r": {
     "delete_cmd_postfix": ") ",
     "delete_cmd_prefix": "rm(",
     "library": "var_list.r",
     "varRefreshCmd": "cat(var_dic_list()) "
    }
   },
   "types_to_exclude": [
    "module",
    "function",
    "builtin_function_or_method",
    "instance",
    "_Feature"
   ],
   "window_display": false
  }
 },
 "nbformat": 4,
 "nbformat_minor": 1
}
